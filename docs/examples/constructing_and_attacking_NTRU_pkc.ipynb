{
 "cells": [
  {
   "cell_type": "markdown",
   "id": "e64c1dd7-561e-44c4-bacd-cbbc1464cbe4",
   "metadata": {},
   "source": [
    "# Constructing and attacking NTRU public key cryptosystem\n",
    "In contrast to cryptosystems such as RSA, Diffie-Hellman or ECC which are based on Group operations, the NTRU cryptosystem is a ring-based cryptosystem, specifically convolution polynomial rings, but it's underlying hard mathematical problem can also be interpreted as **SVP** or **CVP** in a lattice."
   ]
  },
  {
   "cell_type": "markdown",
   "id": "c1c8afb8-3dec-4c71-a185-d6e8b1d3d99a",
   "metadata": {},
   "source": [
    "# NTRUEncrypt\n",
    "The NTRU public key cryptosystem, parameterized by integers $N$, $p$, $q$ and $d$ such that\n",
    "$$\n",
    "\\begin{aligned}\n",
    "\\text{1.}&\\; N \\in \\mathbb{P} \\; \\text{is prime} \\newline\n",
    "\\text{2.}&\\; \\gcd(N,q) = \\gcd(p,q) = 1 \\newline\n",
    "\\text{3.}&\\; d > 0 \\newline\n",
    "\\text{4.}&\\; q > (6d + 1)p\n",
    "\\end{aligned}\n",
    "$$\n",
    "is based on operations in three **polynomial rings** $R, R_p, R_q$\n",
    "$$\n",
    "R = \\frac{\\mathbb{Z}[X]}{X^{N} - 1}, \\quad R_p = \\frac{\\mathbb{Z}_p[X]}{X^{N} - 1}, \\quad R_q = \\frac{\\mathbb{Z}_q[X]}{X^{N} - 1}\n",
    "$$\n",
    "and **ternary polynomials** defined for any positive integers $d_1$ and $d_2$ as\n",
    "$$\n",
    "\\mathcal{T}(d_1, d_2) = \\left\\{ a(x) \\in R \\; \\middle| \\;\n",
    "\\begin{array}{l}\n",
    "a(x) \\; \\text{has} \\; d_1 \\; \\text{coefficients equal to 1,}\\newline\n",
    "a(x) \\; \\text{has} \\; d_2 \\; \\text{coefficients equal to -1,}\\newline\n",
    "a(x) \\; \\text{has all other coefficients equal to 0}\n",
    "\\end{array}\n",
    "\\right\\}\n",
    "$$"
   ]
  },
  {
   "cell_type": "markdown",
   "id": "f494f2ca-7411-4a1b-8189-132b5cdfef2e",
   "metadata": {},
   "source": [
    "# Key creation \n",
    "Let $(N, p, q, d)$ be publicly known parameters of the NTRU cryptosystem, chosen by some trusted authority.  \n",
    "**Private  key** consists of two randomly chosen polynomials\n",
    "$$\n",
    "f(x) \\in \\mathcal{T}(d + 1, d) \\qquad \\text{and} \\qquad g(x) \\in \\mathcal{T}(d, d)\n",
    "$$\n",
    "To set up public key we first need to calculate inverses\n",
    "$$\n",
    "F_q(x) = f(x)^{-1} \\; \\text{in} \\; R_q \\qquad \\text{and} \\qquad F_p = f(x)^{-1} \\; \\text{in} \\; R_p\n",
    "$$\n",
    "**The $f(x)$ must be chosen such that inverses $F_q(x)$ and $F_p(x)$ exists**.\n",
    "\n",
    "The polynomial $h(x)$ defined as\n",
    "$$\n",
    "h(x) = F_q(x) \\cdot g(x) \\; \\text{in} \\; R_q\n",
    "$$\n",
    "will be a **public key**\n",
    "\n",
    "Private key: $(f(x), g(x))$  \n",
    "Public key: $h(x)$"
   ]
  },
  {
   "cell_type": "code",
   "execution_count": 1,
   "id": "25a9aaa7-8bc4-4681-9bbd-6cd79d961f90",
   "metadata": {},
   "outputs": [
    {
     "name": "stdout",
     "output_type": "stream",
     "text": [
      "[1 0 0 0 0 0 0]\n",
      "[1 0 0 0 0 0 0]\n",
      "[30 26  8 38  2 40 20]\n",
      "Private key: (f(x), h(x))\n",
      "f(x) =  [-1  0  1  1 -1  0  1]\n",
      "g(x) =  [ 0 -1 -1  0  1  0  1]\n",
      "\n",
      "Public key: h(x)\n",
      "h(x) =  [30 26  8 38  2 40 20]\n"
     ]
    }
   ],
   "source": [
    "import numpy as np\n",
    "import lbpqc.primitives.polynomial.NTRU_polynomial_ring as npr\n",
    "import lbpqc.primitives.polynomial.modulo_integer_polynomial_ring as mpr\n",
    "# Let's choose NTRU parameters and private key (f,g)\n",
    "N, p, q, d = 7, 3, 41, 2\n",
    "\n",
    "f = np.array([-1, 0, 1, 1, -1, 0, 1], dtype=int) #f(x) = x^6 - x^4 + x^3 + x^2 - 1\n",
    "g = np.array([0, -1, -1, 0, 1, 0, 1], dtype=int) #g(x) = x^6 + x^4 - x^2 - x\n",
    "\n",
    "# Now lets compute inverses Fq and Fp\n",
    "Fq = npr.ntru_poly_inverse(N, q, f)\n",
    "Fp = npr.ntru_poly_inverse(N, p, f)\n",
    "\n",
    "# Lets check if the inverses are correct\n",
    "print(npr.ntru_poly_mul(N, q, Fq, f))\n",
    "print(npr.ntru_poly_mul(N, p, Fp, f))\n",
    "\n",
    "# Now let's calculate public key h\n",
    "h = npr.ntru_poly_mul(N, q, Fq, g)\n",
    "print(h)\n",
    "\n",
    "print(\"Private key: (f(x), h(x))\")\n",
    "print(\"f(x) = \", f)\n",
    "print(\"g(x) = \", g)\n",
    "print()\n",
    "print(\"Public key: h(x)\")\n",
    "print(\"h(x) = \", h)"
   ]
  },
  {
   "cell_type": "markdown",
   "id": "716aa902-a7aa-4cf3-abaf-162f3463cecd",
   "metadata": {},
   "source": [
    "# Encryption\n",
    "Plaintext $m$ has a form of polynomial $m(x) \\in R$ whose coefficients satisfy $ \\; -\\frac{1}{2}p < m_i \\leq \\frac{1}{2}p $.  \n",
    "In order to encrypt $m$ we also need a random polynomial $r(x) \\in \\mathcal{T}(d,d)$ then\n",
    "$$\n",
    "e(x) \\equiv p h(x) \\cdot r(x) + m(x) \\quad \\mod q\n",
    "$$\n",
    "is a **ciphertext** and $e(x) \\in R_q$"
   ]
  },
  {
   "cell_type": "code",
   "execution_count": 2,
   "id": "830ea18c-3a7e-4ca5-bbf7-622f89cc9145",
   "metadata": {},
   "outputs": [
    {
     "name": "stdout",
     "output_type": "stream",
     "text": [
      "plaintext m(x) = [ 1 -1  1  1  0 -1]\n",
      "random element r(x) = [-1  1  0  0  0 -1  1]\n",
      "\n",
      "ciphertext e(x) = [25  3 40  2  4 19 31]\n"
     ]
    }
   ],
   "source": [
    "# plaintext\n",
    "m = np.array([ 1,-1, 1, 1, 0,-1], dtype=int)\n",
    "print(\"plaintext m(x) =\", m)\n",
    "# random element\n",
    "r = np.array([-1, 1, 0, 0, 0,-1, 1], dtype=int)\n",
    "print(\"random element r(x) =\", r) \n",
    "\n",
    "print()\n",
    "# ciphertext\n",
    "e = mpr.poly_mod_add(npr.ntru_poly_mul(N, q, mpr.poly_mod_scalar_mul(h, p, modulus=q), r), m, q)\n",
    "print(\"ciphertext e(x) =\", e)"
   ]
  },
  {
   "cell_type": "markdown",
   "id": "d5a285d1-d2c1-426d-a3c5-97c02276654d",
   "metadata": {},
   "source": [
    "# Decryption\n",
    "To decrypt ciphertext $e(x)$ we first need to compute\n",
    "$$\n",
    "a(x) \\equiv f(x) \\cdot e(x) \\quad \\mod q\n",
    "$$\n",
    "then\n",
    "$$\n",
    "b(x) \\equiv F_p(x) \\cdot \\text{center\\_lift} (a(x)) \\quad \\mod p\n",
    "$$\n",
    "is equal to the plaintext $m(x)$"
   ]
  },
  {
   "cell_type": "code",
   "execution_count": 3,
   "id": "3c4d6e0b-0647-485a-8888-1b93c8d6b734",
   "metadata": {},
   "outputs": [
    {
     "name": "stdout",
     "output_type": "stream",
     "text": [
      "Message m: [ 1 -1  1  1  0 -1]\n",
      "Decrypted message b: [ 1 -1  1  1  0 -1  0]\n"
     ]
    }
   ],
   "source": [
    "a = npr.ntru_poly_mul(N, q, f, e)\n",
    "a = mpr.center_lift(a, q)\n",
    "\n",
    "b = npr.ntru_poly_mul(N, p, Fp, a)\n",
    "b = mpr.center_lift(b, p)\n",
    "\n",
    "print(f\"Message m: {m}\")\n",
    "print(f\"Decrypted message b: {b}\")"
   ]
  },
  {
   "cell_type": "markdown",
   "id": "ece18e76-49ab-47b2-9823-79be4c9cfd2e",
   "metadata": {},
   "source": [
    "# NTRU as a lattice\n",
    "Given NTRU cryptosystem with parameters $(N,p,q,d)$ we are going to identify each pair of polynomials\n",
    "$$\n",
    "a(x) = a_0 + \\ldots + a_{N-1}x^{N-1} \\qquad \\text{and} \\qquad b(x) = b_0 + \\ldots + b_{N-1}x^{N-1}\n",
    "$$\n",
    "in $R$ with $2N$-dimensional vector\n",
    "$$\n",
    "(a,b) = (a_0, \\ldots, a_{N-1}, b_0, \\ldots, b_{N-1}) \\in \\mathbb{Z}^{2N}\n",
    "$$"
   ]
  },
  {
   "cell_type": "code",
   "execution_count": 4,
   "id": "bee31610-3d14-4d4f-a7d2-befb2ed80acd",
   "metadata": {},
   "outputs": [
    {
     "name": "stdout",
     "output_type": "stream",
     "text": [
      "[[ 1  0  0  0  0  0  0 30 26  8 38  2 40 20]\n",
      " [ 0  1  0  0  0  0  0 20 30 26  8 38  2 40]\n",
      " [ 0  0  1  0  0  0  0 40 20 30 26  8 38  2]\n",
      " [ 0  0  0  1  0  0  0  2 40 20 30 26  8 38]\n",
      " [ 0  0  0  0  1  0  0 38  2 40 20 30 26  8]\n",
      " [ 0  0  0  0  0  1  0  8 38  2 40 20 30 26]\n",
      " [ 0  0  0  0  0  0  1 26  8 38  2 40 20 30]\n",
      " [ 0  0  0  0  0  0  0 41  0  0  0  0  0  0]\n",
      " [ 0  0  0  0  0  0  0  0 41  0  0  0  0  0]\n",
      " [ 0  0  0  0  0  0  0  0  0 41  0  0  0  0]\n",
      " [ 0  0  0  0  0  0  0  0  0  0 41  0  0  0]\n",
      " [ 0  0  0  0  0  0  0  0  0  0  0 41  0  0]\n",
      " [ 0  0  0  0  0  0  0  0  0  0  0  0 41  0]\n",
      " [ 0  0  0  0  0  0  0  0  0  0  0  0  0 41]]\n"
     ]
    }
   ],
   "source": [
    "from lbpqc.primitives.lattice import full_rank_lattice as flr\n",
    "from lbpqc.primitives.lattice import reduction\n",
    "\n",
    "M_NTRU = flr.NTRU_lattice_basis((N,p,q,d), h)\n",
    "print(M_NTRU.astype(int))"
   ]
  },
  {
   "cell_type": "code",
   "execution_count": 5,
   "id": "4efd7e87-6267-4ba5-9fe8-97df64d4f860",
   "metadata": {},
   "outputs": [
    {
     "name": "stdout",
     "output_type": "stream",
     "text": [
      "[ 1  0 -1  1  0 -1 -1 -1  0 -1  0  1  1  0]\n",
      "[ 1  0 -1  1  0 -1 -1]\n",
      "[-1  0 -1  0  1  1  0]\n",
      "[20 10 15 33  4 39  1]\n",
      "[2 0 1 2 2 2 2]\n"
     ]
    }
   ],
   "source": [
    "M_NTRU_LLL = reduction.LLL(M_NTRU)\n",
    "sv = M_NTRU_LLL[0].astype(int)\n",
    "print(sv)\n",
    "f_prim = sv[:N]\n",
    "g_prim = sv[N:]\n",
    "print(f_prim)\n",
    "print(g_prim)\n",
    "\n",
    "Fprim_q = npr.ntru_poly_inverse(N, q, f_prim)\n",
    "Fprim_p = npr.ntru_poly_inverse(N, p, f_prim)\n",
    "print(Fprim_q)\n",
    "print(Fprim_p)"
   ]
  },
  {
   "cell_type": "code",
   "execution_count": 6,
   "id": "0ab8fb25-0499-457f-9cdf-cc7b61ae33e6",
   "metadata": {},
   "outputs": [
    {
     "name": "stdout",
     "output_type": "stream",
     "text": [
      "Message m: [ 1 -1  1  1  0 -1]\n",
      "Decrypted message b: [ 1 -1  1  1  0 -1  0]\n"
     ]
    }
   ],
   "source": [
    "aprim = npr.ntru_poly_mul(N, q, f_prim, e)\n",
    "aprim = mpr.center_lift(aprim, q)\n",
    "\n",
    "bprim = npr.ntru_poly_mul(N, p, Fprim_p, aprim)\n",
    "bprim = mpr.center_lift(bprim, p)\n",
    "\n",
    "print(f\"Message m: {m}\")\n",
    "print(f\"Decrypted message b: {b}\")"
   ]
  }
 ],
 "metadata": {
  "kernelspec": {
   "display_name": "Python (lbpqc-env)",
   "language": "python",
   "name": "lbpqc-env"
  },
  "language_info": {
   "codemirror_mode": {
    "name": "ipython",
    "version": 3
   },
   "file_extension": ".py",
   "mimetype": "text/x-python",
   "name": "python",
   "nbconvert_exporter": "python",
   "pygments_lexer": "ipython3",
   "version": "3.12.2"
  }
 },
 "nbformat": 4,
 "nbformat_minor": 5
}
