{
 "cells": [
  {
   "cell_type": "markdown",
   "id": "e64c1dd7-561e-44c4-bacd-cbbc1464cbe4",
   "metadata": {},
   "source": [
    "# Constructing and attacking NTRU public key cryptosystem"
   ]
  }
 ],
 "metadata": {
  "kernelspec": {
   "display_name": "Python (lbpqc-env)",
   "language": "python",
   "name": "lbpqc-env"
  },
  "language_info": {
   "codemirror_mode": {
    "name": "ipython",
    "version": 3
   },
   "file_extension": ".py",
   "mimetype": "text/x-python",
   "name": "python",
   "nbconvert_exporter": "python",
   "pygments_lexer": "ipython3",
   "version": "3.12.2"
  }
 },
 "nbformat": 4,
 "nbformat_minor": 5
}
