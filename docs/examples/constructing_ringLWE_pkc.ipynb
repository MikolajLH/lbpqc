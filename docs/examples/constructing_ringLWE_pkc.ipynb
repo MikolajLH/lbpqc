{
 "cells": [
  {
   "cell_type": "markdown",
   "id": "6605c4f7-ae92-49c4-85f3-d9df6e4d2bc5",
   "metadata": {},
   "source": [
    "# Constructing public key cryptosystem based on ring LWE problem"
   ]
  }
 ],
 "metadata": {
  "kernelspec": {
   "display_name": "Python (lbpqc-env)",
   "language": "python",
   "name": "lbpqc-env"
  },
  "language_info": {
   "codemirror_mode": {
    "name": "ipython",
    "version": 3
   },
   "file_extension": ".py",
   "mimetype": "text/x-python",
   "name": "python",
   "nbconvert_exporter": "python",
   "pygments_lexer": "ipython3",
   "version": "3.12.2"
  }
 },
 "nbformat": 4,
 "nbformat_minor": 5
}
