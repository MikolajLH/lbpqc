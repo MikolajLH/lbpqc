{
 "cells": [
  {
   "cell_type": "markdown",
   "id": "e19a906c-139e-4f4b-b397-db2a8d32368c",
   "metadata": {},
   "source": [
    "# Constructing public key cryptosytem based on LWR problem"
   ]
  }
 ],
 "metadata": {
  "kernelspec": {
   "display_name": "Python (lbpqc-env)",
   "language": "python",
   "name": "lbpqc-env"
  },
  "language_info": {
   "codemirror_mode": {
    "name": "ipython",
    "version": 3
   },
   "file_extension": ".py",
   "mimetype": "text/x-python",
   "name": "python",
   "nbconvert_exporter": "python",
   "pygments_lexer": "ipython3",
   "version": "3.12.2"
  }
 },
 "nbformat": 4,
 "nbformat_minor": 5
}
