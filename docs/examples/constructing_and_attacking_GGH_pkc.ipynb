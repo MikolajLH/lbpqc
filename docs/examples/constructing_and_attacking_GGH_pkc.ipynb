{
 "cells": [
  {
   "cell_type": "markdown",
   "id": "1de5aeb8-0726-476d-86ad-18b200686da0",
   "metadata": {},
   "source": [
    "# Constructing and attacking GGH public key cryptosystem"
   ]
  }
 ],
 "metadata": {
  "kernelspec": {
   "display_name": "Python (lbpqc-env)",
   "language": "python",
   "name": "lbpqc-env"
  },
  "language_info": {
   "codemirror_mode": {
    "name": "ipython",
    "version": 3
   },
   "file_extension": ".py",
   "mimetype": "text/x-python",
   "name": "python",
   "nbconvert_exporter": "python",
   "pygments_lexer": "ipython3",
   "version": "3.12.2"
  }
 },
 "nbformat": 4,
 "nbformat_minor": 5
}
