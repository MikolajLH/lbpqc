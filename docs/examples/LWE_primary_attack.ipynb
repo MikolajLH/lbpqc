{
 "cells": [
  {
   "cell_type": "markdown",
   "id": "de3d984c-9038-4399-8c3d-4fdbd3a9ded3",
   "metadata": {},
   "source": [
    "# Primary attack on search-LWE problem\n",
    "In this notebook we are going to solve search-LWE by using primary attack.  \n",
    "First let's define the LWE.  \n",
    "Given parameters $n, q \\in \\mathbb{Z} $ and some non-uniform probability distribution $\\chi$ on $\\mathbb{Z}_q$ we define an LWE sample $(\\mathbf{a},b)$ for a secret vector $\\mathbf{s} \\in {\\mathbb{Z}^n_q}$ as follows\n",
    "$$\n",
    "\\begin{align*}\n",
    "\\mathbf{a} &\\leftarrow \\operatorname{Uniform}(\\mathbb{Z}^n_q) \\newline\n",
    "b &:= \\langle \\mathbf{a}, \\mathbf{s}\\rangle + e\n",
    "\\end{align*}\n",
    "$$\n",
    "where error $e$ is sampled from $\\chi$ distribution.\n",
    "$$\n",
    "\\mathbf{e} \\leftarrow \\chi\n",
    "$$\n",
    "As we take more samples, we can arrange them into a matrix/vector form. So for $m$ samples we define matrix $A \\in \\mathbb{Z}^{m\\times n}_q$ to be obtained from uniform distribution and use vector $\\mathbf{e} \\in \\mathbb{Z}^m$ for error\n",
    "$$\n",
    "\\begin{align*}\n",
    "A &\\leftarrow \\operatorname{Uniform}(\\mathbb{Z}^{m\\times n}_q) \\newline\n",
    "\\mathbf{e} &\\leftarrow \\chi^{m} \\newline\n",
    "\\mathbf{b} &:= A\\mathbf{s} + \\mathbf{e}\n",
    "\\end{align*}\n",
    "$$\n",
    "For search-LWE problem, given only pair $(A, \\mathbf{b})$ we need to obtain secret vector $\\mathbf{s}$.  "
   ]
  },
  {
   "cell_type": "code",
   "execution_count": 1,
   "id": "70ced2cc-d72d-4e0e-8c56-7155a430902a",
   "metadata": {},
   "outputs": [],
   "source": [
    "import numpy as np\n",
    "from lbpqc.primitives.rng import RNG\n",
    "from lbpqc.primitives import matrix\n",
    "from lbpqc.primitives.lattice import embeddings, reductions, fullrank"
   ]
  },
  {
   "cell_type": "code",
   "execution_count": 2,
   "id": "e90d4444-e62e-452a-be7d-b37acf69a362",
   "metadata": {},
   "outputs": [],
   "source": [
    "rng = RNG(0)"
   ]
  },
  {
   "cell_type": "code",
   "execution_count": 3,
   "id": "f34138a3-fe25-482a-ac1a-767473fd5a0f",
   "metadata": {},
   "outputs": [
    {
     "name": "stdout",
     "output_type": "stream",
     "text": [
      "LWE distribution:\n",
      "A:\n",
      "[[ 4 13 11  0  6]\n",
      " [14  9  0 13 12]\n",
      " [14  2  1 14  0]\n",
      " [ 9  1  5  8  7]\n",
      " [ 6  0  0  2  0]\n",
      " [11  8 11  4 10]\n",
      " [12  6  7 16 13]\n",
      " [16  6 11 16 11]\n",
      " [14 11 11  6 14]\n",
      " [ 2  9 12 14  8]]\n",
      "\n",
      "b:\n",
      "[ 75 158  89  92  20 115 173 175 155 129]\n",
      "s:\n",
      "[2 2 1 4 5]\n",
      "e = b - As\n",
      "e:\n",
      "[ 0  0  0  0  0  0  1  1  0 -1]\n"
     ]
    }
   ],
   "source": [
    "m, n, q = 10, 5, 17 # These are parameters for LWE distribution\n",
    "s = np.array([2,2,1,4,5]) # Here we chose a secret vector\n",
    "\n",
    "# We sample from LWE distribution, for error distribution we use rounded gaussian with mean = 0 and stddev = q * (1/n) / 2pi\n",
    "A, b = rng.LWE_dist(q, s, m, \"rounded\", q, 1 / n)\n",
    "print(\"LWE distribution:\")\n",
    "print(\"A:\")\n",
    "print(A)\n",
    "print()\n",
    "print(\"b:\")\n",
    "print(b)\n",
    "\n",
    "print(\"s:\")\n",
    "print(s)\n",
    "e = b - A@s\n",
    "print(\"e = b - As\")\n",
    "print(\"e:\")\n",
    "print(e)"
   ]
  },
  {
   "cell_type": "markdown",
   "id": "e1cb770b-0a0d-4acf-96f7-b2a952fb73ed",
   "metadata": {},
   "source": [
    "Primary attack is achieved by constructing a lattice from our LWE pair $(A, \\mathbf{b})$ thru some embedding method and then by using lattice reduction algorithm we can obtain a short vector that should allow us to reconstruct the secret vector $\\mathbf{s}$.  \n",
    "\n",
    "First we will reduce the LWE problem to BDD by constructing the associated q-ary lattice\n",
    "$$\n",
    "    \\mathcal{L'} = \\left\\{ \\mathbf{y'} \\in \\mathbb{Z}^m : \\mathbf{y'} = A\\mathbf{x'}\\mod q, \\quad \\forall \\mathbf{x'} \\in \\mathbb{Z}^n \\right \\}\n",
    "$$\n",
    "We can try to solve the BDD directly by using babai's nearest plane algorithm, or furthemore reduce the BDD to SVP with Kannan's embedding.  \n",
    "Let's first try solving BDD."
   ]
  },
  {
   "cell_type": "code",
   "execution_count": 4,
   "id": "8fbb88b3-fb8c-4912-916f-2cad1c35a29c",
   "metadata": {},
   "outputs": [
    {
     "name": "stdout",
     "output_type": "stream",
     "text": [
      "LWE as BDD problem:\n",
      "[[ 1  0  0  0  0 13  1 10  2  1]\n",
      " [ 0  1  0  0  0  7  2  9 16 10]\n",
      " [ 0  0  1  0  0 13 13  1 13 10]\n",
      " [ 0  0  0  1  0  5  0 14  2  5]\n",
      " [ 0  0  0  0  1  7  6 14  4  5]\n",
      " [ 0  0  0  0  0 17  0  0  0  0]\n",
      " [ 0  0  0  0  0  0 17  0  0  0]\n",
      " [ 0  0  0  0  0  0  0 17  0  0]\n",
      " [ 0  0  0  0  0  0  0  0 17  0]\n",
      " [ 0  0  0  0  0  0  0  0  0 17]]\n"
     ]
    }
   ],
   "source": [
    "print(\"LWE as BDD problem:\")\n",
    "BDD_Basis =  embeddings.q_ary_basis(A, q)\n",
    "print(BDD_Basis)"
   ]
  },
  {
   "cell_type": "markdown",
   "id": "b170f39e-be13-4cb5-84f2-8c2416a71c8c",
   "metadata": {},
   "source": [
    "When solving BDD with babai's nearest plane algorithm we use vector $\\mathbf{b}$ as our target vector.  \n",
    "The nearest plane algorithm will give us some close lattice vector $\\mathbf{w}$ that satisfies $\\mathbf{w} = A\\mathbf{x'} \\mod q$ for all $x \\in \\mathbb{Z}^n$ and since the error vector $\\mathbf{e}$ is relatively short, we can expect that $\\mathbf{w} = A\\mathbf{s} \\mod q$ where $\\mathbf{s}$ is a secret we are looking for.  \n",
    "In order to obtain the secret vector we need to solve linear system of equations, we can use Gaussian-Jordan elimination for that. One caveat is that we are solving the system in $\\mathbb{Z}_q$."
   ]
  },
  {
   "cell_type": "code",
   "execution_count": 5,
   "id": "aed53cc2-e288-46b6-828d-fd20a8e62fd4",
   "metadata": {},
   "outputs": [
    {
     "name": "stdout",
     "output_type": "stream",
     "text": [
      "recovered secret:\n",
      "[2 2 1 4 5]\n",
      "true secret:\n",
      "[2 2 1 4 5]\n"
     ]
    }
   ],
   "source": [
    "w = reductions.babai_nearest_plane(BDD_Basis, b).astype(int)\n",
    "Aw = np.block([A, w.reshape(-1,1)])\n",
    "R, _ = matrix.mod_RREF(Aw, q)\n",
    "# since we have more equations than variables, after first elimination we fill with zeros the redundant rows\n",
    "# after that, in order to solve the system we perfom second elimination only on the first n rows\n",
    "sw = matrix.mod_RREF(R[:len(s)], q)[0][:, -1]\n",
    "print(\"recovered secret:\")\n",
    "print(sw)\n",
    "print(\"true secret:\")\n",
    "print(s)"
   ]
  },
  {
   "cell_type": "markdown",
   "id": "f3564f2a-bdee-435f-b3dc-1a14f6118fa5",
   "metadata": {},
   "source": [
    "Now we can use Kannan's embedding.  \n",
    "For Kannan's embedding we define the embedding lattice $\\mathcal{L_K}$ as follows\n",
    "$$\n",
    "\\mathcal{L_K} := \\left\\{ \\mathbf{y} \\in \\mathbb{Z}^{m + 1} : \\mathbf{y} = \\bar{A}x \\mod q, \\quad \\forall \\mathbf{x} \\in \\mathbb{Z}^{n+1}, \\bar{A} =  \\begin{pmatrix} A & \\mathbf{b} \\newline \\mathbf{0} & 1 \\end{pmatrix}\n",
    "\\right \\}\n",
    "$$\n",
    "If the columns of the matrix $\\bar{a}$ are linearly independed (given the nature of LWE there is a very high chance they are), then $\\mathbf{v}^T = (\\mathbf{e}^T| 1)$ is a short vector in the lattice. We can find it by using some lattice reduction algorithm e.g. LLL.  \n",
    "Recall that $A\\mathbf{s} = \\mathbf{b} - \\mathbf{e}$, so we can solve for $\\mathbf{s}$ using the same technis as for BDD."
   ]
  },
  {
   "cell_type": "code",
   "execution_count": 6,
   "id": "3aadf6d9-81d6-4159-af21-d0589bc247ba",
   "metadata": {},
   "outputs": [
    {
     "name": "stdout",
     "output_type": "stream",
     "text": [
      "Kannan's embedding\n",
      "[[ 1  0  0  0  0 13  0  9  2  2 16]\n",
      " [ 0  1  0  0  0  7  0  7 16 12 15]\n",
      " [ 0  0  1  0  0 13  0  5 13  6  4]\n",
      " [ 0  0  0  1  0  5  0 14  2  5  0]\n",
      " [ 0  0  0  0  1  7  0  8  4 11 11]\n",
      " [ 0  0  0  0  0 17  0  0  0  0  0]\n",
      " [ 0  0  0  0  0  0  1  1  0 16  1]\n",
      " [ 0  0  0  0  0  0  0 17  0  0  0]\n",
      " [ 0  0  0  0  0  0  0  0 17  0  0]\n",
      " [ 0  0  0  0  0  0  0  0  0 17  0]\n",
      " [ 0  0  0  0  0  0  0  0  0  0 17]]\n"
     ]
    }
   ],
   "source": [
    "Id = lambda n: np.identity(n, int)\n",
    "Zn = lambda m, n: np.zeros((m,n), int)\n",
    "\n",
    "Ad = np.block([[A, b.reshape(-1, 1)], [Zn(1, n), np.array([1])]])\n",
    "Kannans_Basis = embeddings.q_ary_basis(Ad, q)\n",
    "\n",
    "print(\"Kannan's embedding\")\n",
    "print(Kannans_Basis)"
   ]
  },
  {
   "cell_type": "code",
   "execution_count": 7,
   "id": "0d04988f-5a0a-45c1-983b-ed068a50e26c",
   "metadata": {},
   "outputs": [
    {
     "name": "stdout",
     "output_type": "stream",
     "text": [
      "v should have a form of (e | 1) where e is LWE noise vector so A * s = b - v\n",
      "v:\n",
      "[ 0  0  0  0  0  0 -1 -1  0  1 -1]\n",
      "e:\n",
      "[ 0  0  0  0  0  0  1  1  0 -1]\n",
      "\n",
      "recovered secret:\n",
      "[2 2 1 4 5]\n",
      "true secret:\n",
      "[2 2 1 4 5]\n"
     ]
    }
   ],
   "source": [
    "v = reductions.LLL(Kannans_Basis).astype(int)[0]\n",
    "print(\"v should have a form of (e | 1) where e is LWE noise vector so A * s = b - v\")\n",
    "print(\"v:\")\n",
    "print(v)\n",
    "print(\"e:\")\n",
    "print(e)\n",
    "print()\n",
    "As = b - v[:m] if v[-1] == 1 else b + v[:m]\n",
    "Aw = np.block([A, As.reshape(-1,1)])\n",
    "R, _ = matrix.mod_RREF(Aw, q)\n",
    "ss = matrix.mod_RREF(R[:len(s)], q)[0][:, -1]\n",
    "print(\"recovered secret:\")\n",
    "print(ss)\n",
    "print(\"true secret:\")\n",
    "print(s)"
   ]
  }
 ],
 "metadata": {
  "kernelspec": {
   "display_name": "Python 3 (ipykernel)",
   "language": "python",
   "name": "python3"
  },
  "language_info": {
   "codemirror_mode": {
    "name": "ipython",
    "version": 3
   },
   "file_extension": ".py",
   "mimetype": "text/x-python",
   "name": "python",
   "nbconvert_exporter": "python",
   "pygments_lexer": "ipython3",
   "version": "3.13.1"
  }
 },
 "nbformat": 4,
 "nbformat_minor": 5
}
