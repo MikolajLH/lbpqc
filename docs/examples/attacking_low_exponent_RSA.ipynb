{
 "cells": [
  {
   "cell_type": "markdown",
   "id": "b4a0b84b-cc6e-4696-b4bb-fe3a7b2f0ab6",
   "metadata": {},
   "source": [
    "# Attack on RSA with low public exponent"
   ]
  }
 ],
 "metadata": {
  "kernelspec": {
   "display_name": "Python (lbpqc-env)",
   "language": "python",
   "name": "lbpqc-env"
  },
  "language_info": {
   "codemirror_mode": {
    "name": "ipython",
    "version": 3
   },
   "file_extension": ".py",
   "mimetype": "text/x-python",
   "name": "python",
   "nbconvert_exporter": "python",
   "pygments_lexer": "ipython3",
   "version": "3.12.2"
  }
 },
 "nbformat": 4,
 "nbformat_minor": 5
}
